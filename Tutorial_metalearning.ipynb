{
 "cells": [
  {
   "cell_type": "markdown",
   "metadata": {
    "id": "l0RcNcMpnLE3"
   },
   "source": [
    "# Flow of the hands-on session:\n",
    "## 1. Pre-training\n",
    "## 2. Fine-tuning\n",
    "## 3. Meta-learning\n",
    "\n",
    "## Source data - MNIST data corresponding to the classes - [0,1,2,3,4,5,6,7]\n",
    "## Target data - MNIST data corresponding to the classes - [8,9]"
   ]
  },
  {
   "cell_type": "code",
   "execution_count": 1,
   "metadata": {
    "id": "5Ut2d9Ijii3q"
   },
   "outputs": [
    {
     "name": "stderr",
     "output_type": "stream",
     "text": [
      "2023-01-04 08:59:15.767185: W tensorflow/stream_executor/platform/default/dso_loader.cc:64] Could not load dynamic library 'libcudart.so.11.0'; dlerror: libcudart.so.11.0: cannot open shared object file: No such file or directory\n",
      "2023-01-04 08:59:15.767210: I tensorflow/stream_executor/cuda/cudart_stub.cc:29] Ignore above cudart dlerror if you do not have a GPU set up on your machine.\n"
     ]
    }
   ],
   "source": [
    "import tensorflow as tf\n",
    "from tensorflow import keras\n",
    "import numpy as np\n",
    "import matplotlib.pyplot as plt\n",
    "from tensorflow.keras.datasets import mnist\n",
    "from tensorflow.keras.models import Model\n",
    "from tensorflow.keras.layers import Dense, Input, ReLU\n",
    "from tensorflow.keras.layers import Conv2D, MaxPooling2D, Dropout, Flatten, BatchNormalization\n",
    "from keras import backend as k\n",
    "from tensorflow.keras.utils import to_categorical\n",
    "from sklearn.model_selection import train_test_split\n",
    "from sklearn.utils import shuffle\n",
    "import random\n"
   ]
  },
  {
   "cell_type": "markdown",
   "metadata": {
    "id": "FFt7YwhElGHE"
   },
   "source": [
    "## Model"
   ]
  },
  {
   "cell_type": "code",
   "execution_count": 2,
   "metadata": {
    "colab": {
     "base_uri": "https://localhost:8080/"
    },
    "id": "PFj266kVchBx",
    "outputId": "faabc0c2-9ea2-4016-cb77-7a126559d9dd"
   },
   "outputs": [
    {
     "name": "stdout",
     "output_type": "stream",
     "text": [
      "Model: \"model\"\n",
      "_________________________________________________________________\n",
      " Layer (type)                Output Shape              Param #   \n",
      "=================================================================\n",
      " input_1 (InputLayer)        [(None, 28, 28, 1)]       0         \n",
      "                                                                 \n",
      " conv2d (Conv2D)             (None, 28, 28, 32)        320       \n",
      "                                                                 \n",
      " batch_normalization (BatchN  (None, 28, 28, 32)       128       \n",
      " ormalization)                                                   \n",
      "                                                                 \n",
      " tf.nn.relu (TFOpLambda)     (None, 28, 28, 32)        0         \n",
      "                                                                 \n",
      " max_pooling2d (MaxPooling2D  (None, 14, 14, 32)       0         \n",
      " )                                                               \n",
      "                                                                 \n",
      " conv2d_1 (Conv2D)           (None, 14, 14, 64)        18496     \n",
      "                                                                 \n",
      " batch_normalization_1 (Batc  (None, 14, 14, 64)       256       \n",
      " hNormalization)                                                 \n",
      "                                                                 \n",
      " tf.nn.relu_1 (TFOpLambda)   (None, 14, 14, 64)        0         \n",
      "                                                                 \n",
      " max_pooling2d_1 (MaxPooling  (None, 7, 7, 64)         0         \n",
      " 2D)                                                             \n",
      "                                                                 \n",
      " conv2d_2 (Conv2D)           (None, 7, 7, 128)         73856     \n",
      "                                                                 \n",
      " batch_normalization_2 (Batc  (None, 7, 7, 128)        512       \n",
      " hNormalization)                                                 \n",
      "                                                                 \n",
      " tf.nn.relu_2 (TFOpLambda)   (None, 7, 7, 128)         0         \n",
      "                                                                 \n",
      " max_pooling2d_2 (MaxPooling  (None, 3, 3, 128)        0         \n",
      " 2D)                                                             \n",
      "                                                                 \n",
      " conv2d_3 (Conv2D)           (None, 3, 3, 192)         221376    \n",
      "                                                                 \n",
      " batch_normalization_3 (Batc  (None, 3, 3, 192)        768       \n",
      " hNormalization)                                                 \n",
      "                                                                 \n",
      " tf.nn.relu_3 (TFOpLambda)   (None, 3, 3, 192)         0         \n",
      "                                                                 \n",
      " conv2d_4 (Conv2D)           (None, 3, 3, 256)         1229056   \n",
      "                                                                 \n",
      " batch_normalization_4 (Batc  (None, 3, 3, 256)        1024      \n",
      " hNormalization)                                                 \n",
      "                                                                 \n",
      " tf.nn.relu_4 (TFOpLambda)   (None, 3, 3, 256)         0         \n",
      "                                                                 \n",
      " max_pooling2d_3 (MaxPooling  (None, 1, 1, 256)        0         \n",
      " 2D)                                                             \n",
      "                                                                 \n",
      " flatten (Flatten)           (None, 256)               0         \n",
      "                                                                 \n",
      " dense (Dense)               (None, 10)                2570      \n",
      "                                                                 \n",
      "=================================================================\n",
      "Total params: 1,548,362\n",
      "Trainable params: 1,547,018\n",
      "Non-trainable params: 1,344\n",
      "_________________________________________________________________\n"
     ]
    },
    {
     "name": "stderr",
     "output_type": "stream",
     "text": [
      "2023-01-04 08:59:17.780285: I tensorflow/stream_executor/cuda/cuda_gpu_executor.cc:939] successful NUMA node read from SysFS had negative value (-1), but there must be at least one NUMA node, so returning NUMA node zero\n",
      "2023-01-04 08:59:17.780926: W tensorflow/stream_executor/platform/default/dso_loader.cc:64] Could not load dynamic library 'libcudart.so.11.0'; dlerror: libcudart.so.11.0: cannot open shared object file: No such file or directory\n",
      "2023-01-04 08:59:17.781054: W tensorflow/stream_executor/platform/default/dso_loader.cc:64] Could not load dynamic library 'libcublas.so.11'; dlerror: libcublas.so.11: cannot open shared object file: No such file or directory\n",
      "2023-01-04 08:59:17.781171: W tensorflow/stream_executor/platform/default/dso_loader.cc:64] Could not load dynamic library 'libcublasLt.so.11'; dlerror: libcublasLt.so.11: cannot open shared object file: No such file or directory\n",
      "2023-01-04 08:59:17.781283: W tensorflow/stream_executor/platform/default/dso_loader.cc:64] Could not load dynamic library 'libcufft.so.10'; dlerror: libcufft.so.10: cannot open shared object file: No such file or directory\n",
      "2023-01-04 08:59:17.781397: W tensorflow/stream_executor/platform/default/dso_loader.cc:64] Could not load dynamic library 'libcurand.so.10'; dlerror: libcurand.so.10: cannot open shared object file: No such file or directory\n",
      "2023-01-04 08:59:17.781519: W tensorflow/stream_executor/platform/default/dso_loader.cc:64] Could not load dynamic library 'libcusolver.so.11'; dlerror: libcusolver.so.11: cannot open shared object file: No such file or directory\n",
      "2023-01-04 08:59:17.781631: W tensorflow/stream_executor/platform/default/dso_loader.cc:64] Could not load dynamic library 'libcusparse.so.11'; dlerror: libcusparse.so.11: cannot open shared object file: No such file or directory\n",
      "2023-01-04 08:59:17.781742: W tensorflow/stream_executor/platform/default/dso_loader.cc:64] Could not load dynamic library 'libcudnn.so.8'; dlerror: libcudnn.so.8: cannot open shared object file: No such file or directory\n",
      "2023-01-04 08:59:17.781762: W tensorflow/core/common_runtime/gpu/gpu_device.cc:1850] Cannot dlopen some GPU libraries. Please make sure the missing libraries mentioned above are installed properly if you would like to use GPU. Follow the guide at https://www.tensorflow.org/install/gpu for how to download and setup the required libraries for your platform.\n",
      "Skipping registering GPU devices...\n",
      "2023-01-04 08:59:17.782510: I tensorflow/core/platform/cpu_feature_guard.cc:151] This TensorFlow binary is optimized with oneAPI Deep Neural Network Library (oneDNN) to use the following CPU instructions in performance-critical operations:  AVX2 FMA\n",
      "To enable them in other operations, rebuild TensorFlow with the appropriate compiler flags.\n"
     ]
    }
   ],
   "source": [
    "class mnist_model(keras.Model):\n",
    "    def __init__(self,numclasses):\n",
    "        super().__init__()\n",
    "        self.conv1 = Conv2D(filters=32,kernel_size=(3,3),input_shape=(28,28,1),padding='same')\n",
    "        # self.dense1 = Dense(100,activation='relu')\n",
    "        self.conv2 = Conv2D(filters=64,kernel_size=(3,3),padding='same')\n",
    "        self.conv3 = Conv2D(filters=128,kernel_size=(3,3),padding='same')\n",
    "        self.conv4 = Conv2D(filters=192,kernel_size=(3,3),padding='same')\n",
    "        self.conv5 = Conv2D(filters=256,kernel_size=(5,5),padding='same')\n",
    "        self.linear = Dense(numclasses,activation='softmax')\n",
    "\n",
    "    def call(self,x):\n",
    "        x = self.conv1(x)\n",
    "        x = BatchNormalization()(x)\n",
    "        x = keras.activations.relu(x)\n",
    "        x = MaxPooling2D((2,2))(x)      \n",
    "\n",
    "                \n",
    "        x = self.conv2(x)\n",
    "        x = BatchNormalization()(x)\n",
    "        x = keras.activations.relu(x)\n",
    "        x = MaxPooling2D((2,2))(x)\n",
    "\n",
    "                \n",
    "        x = self.conv3(x)\n",
    "        x = BatchNormalization()(x)\n",
    "        x = keras.activations.relu(x)\n",
    "        x = MaxPooling2D((2,2))(x)\n",
    "\n",
    "       \n",
    "        x = self.conv4(x)\n",
    "        x = BatchNormalization()(x)\n",
    "        x = keras.activations.relu(x)\n",
    "               \n",
    "        x = self.conv5(x)\n",
    "        x = BatchNormalization()(x)\n",
    "        x = keras.activations.relu(x)\n",
    "        x = MaxPooling2D((2,2))(x)   \n",
    "        \n",
    "        x = Flatten()(x)     \n",
    "\n",
    "        x = self.linear(x)\n",
    "        return x\n",
    "\n",
    "    def build_graph(self,raw_shape):\n",
    "        x = tf.keras.layers.Input(shape=raw_shape)\n",
    "        return Model(inputs=[x], outputs = self.call(x))\n",
    "    \n",
    "model = mnist_model(10)\n",
    "model.build_graph([28,28,1]).summary()"
   ]
  },
  {
   "cell_type": "markdown",
   "metadata": {
    "id": "pq5UIH4wlAi7"
   },
   "source": [
    "## Functions"
   ]
  },
  {
   "cell_type": "code",
   "execution_count": 3,
   "metadata": {
    "id": "HL2bpUK-Vj40"
   },
   "outputs": [],
   "source": [
    "\n",
    "loss_fn = tf.keras.losses.SparseCategoricalCrossentropy()\n",
    "\n",
    "def compute_loss(model, x, y):\n",
    "    logits = model.call(x)\n",
    "    loss = loss_fn(y, logits)\n",
    "    return loss, logits\n",
    "\n",
    "def compute_gradients(model, x, y):\n",
    "    with tf.GradientTape() as tape:\n",
    "        loss, logits = compute_loss(model, x, y)\n",
    "    return tape.gradient(loss, model.trainable_variables), loss,logits\n",
    "\n",
    "def apply_gradients(optimizer, gradients, variables):\n",
    "    optimizer.apply_gradients(zip(gradients, variables))\n",
    "\n",
    "def copy_model(model, x, N):\n",
    "    copied_model = mnist_model(N)\n",
    "    copied_model.call(tf.convert_to_tensor(x))\n",
    "    \n",
    "    copied_model.set_weights(model.get_weights())\n",
    "    return copied_model\n",
    "\n",
    "def get_updated_model(N,model):\n",
    "    new_model = mnist_model(N)\n",
    "    new_model.build_graph([28,28,1])\n",
    "       \n",
    "    for i in range(len(new_model.layers)-1):\n",
    "        new_model.layers[i].set_weights(model.layers[i].get_weights()) \n",
    "    return new_model"
   ]
  },
  {
   "cell_type": "markdown",
   "metadata": {
    "id": "TJ8fW1fblNHg"
   },
   "source": [
    "## Dataset preparation"
   ]
  },
  {
   "cell_type": "code",
   "execution_count": 4,
   "metadata": {
    "colab": {
     "base_uri": "https://localhost:8080/",
     "height": 268
    },
    "id": "B4UKWQkeaaR1",
    "outputId": "5afa8a99-5782-4c37-ca34-b5954136deb6"
   },
   "outputs": [
    {
     "data": {
      "image/png": "[encoded data removed]",
      "text/plain": [
       "<Figure size 640x480 with 9 Axes>"
      ]
     },
     "metadata": {},
     "output_type": "display_data"
    }
   ],
   "source": [
    "## Load the MNIST data\n",
    "(x_train, y_train), (x_test, y_test) = mnist.load_data()\n",
    "\n",
    "# plot first few images\n",
    "for i in range(9):\n",
    "    plt.subplot(330 + 1 + i)\n",
    "    plt.imshow(x_train[i], cmap=plt.get_cmap('gray'))\n",
    "plt.show()\n",
    "\n",
    "x_train = x_train/255.0\n",
    "x_test = x_test/255.0"
   ]
  },
  {
   "cell_type": "code",
   "execution_count": 5,
   "metadata": {
    "id": "miYhlcLUZWgV"
   },
   "outputs": [],
   "source": [
    "## Classwise segregation of data\n",
    "n_category = 10\n",
    "pretrain_category = [0,1,2,3]\n",
    "source_category = [4,5,6,7]\n",
    "target_category = [8,9]\n",
    "\n",
    "classwise_x = [[] for i in range(n_category)]\n",
    "classwise_y = [[] for i in range(n_category)]\n",
    "\n",
    "for i in range(len(x_train)):\n",
    "    category = y_train[i]\n",
    "    if len(classwise_x[category])<500:\n",
    "        classwise_x[category].append(x_train[i])\n",
    "        classwise_y[category].append(y_train[i])=\n",
    "    else:\n",
    "        continue"
   ]
  },
  {
   "cell_type": "code",
   "execution_count": 6,
   "metadata": {
    "colab": {
     "base_uri": "https://localhost:8080/"
    },
    "id": "qSMwOhwjf4DB",
    "outputId": "8fbc44aa-a472-422b-f74b-b580a60a9a4b"
   },
   "outputs": [
    {
     "name": "stdout",
     "output_type": "stream",
     "text": [
      "(5000, 28, 28) (5000,)\n",
      "[0 7 9 ... 3 5 5]\n"
     ]
    }
   ],
   "source": [
    "## Shuffle the entire data with 500 samples each\n",
    "X = np.array(classwise_x).reshape(-1,28,28)\n",
    "Y = np.array(classwise_y).reshape(-1)\n",
    "print(X.shape,Y.shape)\n",
    "X,Y = shuffle(X, Y, random_state=0)\n",
    "print(Y)"
   ]
  },
  {
   "cell_type": "code",
   "execution_count": 7,
   "metadata": {
    "id": "IWA3ZtyBo3Ja"
   },
   "outputs": [],
   "source": [
    "## Get the pre-train data\n",
    "pretrain_x = []\n",
    "pretrain_y = []\n",
    "\n",
    "for i in range(len(X)):\n",
    "    category = Y[i]\n",
    "    if category in pretrain_category + source_category:\n",
    "        pretrain_x.append(X[i])\n",
    "        pretrain_y.append(category)\n",
    "\n",
    "pretrain_x = np.array(pretrain_x)\n",
    "pretrain_y = np.array(pretrain_y)\n",
    "\n",
    "pretrain_dataset = tf.data.Dataset.from_tensor_slices((pretrain_x,pretrain_y))\n",
    "pretrain_dataset = pretrain_dataset.shuffle(5000).batch(1000)"
   ]
  },
  {
   "cell_type": "code",
   "execution_count": 8,
   "metadata": {
    "id": "IRUowFKQo9GL"
   },
   "outputs": [],
   "source": [
    "## Get the target data classified into support and query set\n",
    "\n",
    "def get_target_train_test(target_category):\n",
    "    support_target_x = []\n",
    "    support_target_y = []\n",
    "\n",
    "    query_target_x = []\n",
    "    query_target_y = []\n",
    "    for c in target_category:\n",
    "        for j in range(0,5):\n",
    "            support_target_x.append(classwise_x[c][j])\n",
    "            support_target_y.append(c)\n",
    "        for k in range(5,len(classwise_x[c])):\n",
    "            query_target_x.append(classwise_x[c][k])\n",
    "            query_target_y.append(c)\n",
    "    support_target_x = np.array(support_target_x)\n",
    "    query_target_x = np.array(query_target_x)\n",
    "    support_target_y = np.array(support_target_y)\n",
    "    query_target_y = np.array(query_target_y)\n",
    "    support_target_x,support_target_y = shuffle(support_target_x,support_target_y)\n",
    "    query_target_x,query_target_y = shuffle(query_target_x,query_target_y)\n",
    "\n",
    "    support_target_dataset = tf.data.Dataset.from_tensor_slices((support_target_x,support_target_y))\n",
    "    support_target_dataset = support_target_dataset.shuffle(5000).batch(100)\n",
    "    query_target_dataset = tf.data.Dataset.from_tensor_slices((query_target_x,query_target_y))\n",
    "    query_target_dataset = query_target_dataset.shuffle(5000).batch(100)\n",
    "  \n",
    "    return support_target_dataset,query_target_dataset\n",
    "\n",
    "support_target_dataset,query_target_dataset = get_target_train_test(target_category)\n",
    "\n"
   ]
  },
  {
   "cell_type": "code",
   "execution_count": 9,
   "metadata": {
    "id": "SERqn3d9qioc"
   },
   "outputs": [],
   "source": [
    "# Get the pretrain data for meta-learning \n",
    "\n",
    "meta_pretrain_x = []\n",
    "meta_pretrain_y = []\n",
    "\n",
    "for i in range(len(X)):\n",
    "    category = Y[i]\n",
    "    if category in pretrain_category:\n",
    "        meta_pretrain_x.append(X[i])\n",
    "        meta_pretrain_y.append(category)\n",
    "\n",
    "meta_pretrain_x = np.array(meta_pretrain_x)\n",
    "meta_pretrain_y = np.array(meta_pretrain_y)\n",
    "\n",
    "meta_pretrain_dataset = tf.data.Dataset.from_tensor_slices((meta_pretrain_x,meta_pretrain_y))\n",
    "meta_pretrain_dataset = meta_pretrain_dataset.shuffle(5000).batch(100)\n"
   ]
  },
  {
   "cell_type": "markdown",
   "metadata": {
    "id": "J1b2swaMl066"
   },
   "source": [
    "## Pretraining:\n",
    "### We first pre-train the model on first 8 classes of the MNIST data (source) having 500 samples per class. \n",
    "### We will then use this pre-trained model to fine-tune on the remaining classes of the MNIST data (target)."
   ]
  },
  {
   "cell_type": "code",
   "execution_count": null,
   "metadata": {
    "colab": {
     "base_uri": "https://localhost:8080/"
    },
    "id": "uTfTHZ1omtDb",
    "outputId": "a4770cee-d8e8-4dc0-ec35-950e2cd573fe"
   },
   "outputs": [],
   "source": [
    "train_acc_metric = keras.metrics.SparseCategoricalAccuracy()\n",
    "optimizer = tf.keras.optimizers.Adam()\n",
    "\n",
    "def pre_train(model,epochs,optimizer):\n",
    "    train_acc = []\n",
    "    train_loss = []\n",
    "    for epoch in range(epochs):\n",
    "        print(f'Epoch...{epoch+1}')\n",
    "        for i,(xbatch,ybatch) in enumerate(pretrain_dataset):\n",
    "            print(f'Batch...{i+1}')\n",
    "            xbatch = tf.convert_to_tensor(xbatch)\n",
    "            xbatch = tf.cast(xbatch[:,:,:,tf.newaxis],tf.float32)  \n",
    "            grads,loss,logits = compute_gradients(model,xbatch,ybatch) \n",
    "            apply_gradients(optimizer,grads,model.trainable_variables)                \n",
    "            train_acc_metric.update_state(ybatch,logits)\n",
    "            print('Training accuracy for each batch: ',train_acc_metric.result().numpy())\n",
    "        train_loss.append(loss)\n",
    "        train_acc.append(train_acc_metric.result().numpy())\n",
    "\n",
    "          \n",
    "    return model,train_loss,train_acc\n",
    "\n",
    "model = mnist_model(8)\n",
    "model.build_graph([28,28,1])\n",
    "    \n",
    "pretrain_model,loss,acc= pre_train(model,20,optimizer) "
   ]
  },
  {
   "cell_type": "code",
   "execution_count": null,
   "metadata": {
    "colab": {
     "base_uri": "https://localhost:8080/",
     "height": 590
    },
    "id": "DuNbZ0ZXmqXR",
    "outputId": "e923b97c-7e7d-4eba-eb41-ac20cb41cb67"
   },
   "outputs": [],
   "source": [
    "plt.figure()\n",
    "plt.plot(loss,'r-')\n",
    "plt.plot(acc,'b-')\n",
    "plt.xlabel('Epochs')\n",
    "plt.legend(['Training Loss','Training Acc'])\n",
    "plt.title('Pre-train Model')\n",
    "plt.savefig('./plots/pretrainmodel.png')\n"
   ]
  },
  {
   "cell_type": "code",
   "execution_count": null,
   "metadata": {},
   "outputs": [],
   "source": [
    "print(f'Saving the weights....')\n",
    "pretrain_model.save_weights('./models/pretrained_model_mnist',save_format='tf')\n",
    "print(f'Model saved!!!')"
   ]
  },
  {
   "cell_type": "code",
   "execution_count": 10,
   "metadata": {},
   "outputs": [
    {
     "name": "stdout",
     "output_type": "stream",
     "text": [
      "Load the weights....\n",
      "Model Loaded!!!\n"
     ]
    }
   ],
   "source": [
    "print(f'Load the weights....')\n",
    "pretrain_model = mnist_model(8)\n",
    "pretrain_model.build_graph([28,28,1])\n",
    "pretrain_model.load_weights('./models/pretrained_model_mnist')\n",
    "print(f'Model Loaded!!!')"
   ]
  },
  {
   "cell_type": "code",
   "execution_count": 11,
   "metadata": {
    "colab": {
     "base_uri": "https://localhost:8080/"
    },
    "id": "xY2zJREYqO3y",
    "outputId": "5d8e3921-6b44-401e-f4f5-5eb726bae206"
   },
   "outputs": [
    {
     "name": "stdout",
     "output_type": "stream",
     "text": [
      "Epoch...1\n",
      "Batch...1\n",
      "Training accuracy for each batch:  0.4\n",
      "Epoch...2\n",
      "Batch...1\n",
      "Training accuracy for each batch:  0.45\n",
      "Epoch...3\n",
      "Batch...1\n",
      "Training accuracy for each batch:  0.6333333\n",
      "Epoch...4\n",
      "Batch...1\n",
      "Training accuracy for each batch:  0.625\n",
      "Epoch...5\n",
      "Batch...1\n",
      "Training accuracy for each batch:  0.64\n",
      "Epoch...6\n",
      "Batch...1\n",
      "Training accuracy for each batch:  0.7\n",
      "Epoch...7\n",
      "Batch...1\n",
      "Training accuracy for each batch:  0.74285716\n",
      "Epoch...8\n",
      "Batch...1\n",
      "Training accuracy for each batch:  0.775\n",
      "Epoch...9\n",
      "Batch...1\n",
      "Training accuracy for each batch:  0.8\n",
      "Epoch...10\n",
      "Batch...1\n",
      "Training accuracy for each batch:  0.82\n",
      "Epoch...11\n",
      "Batch...1\n",
      "Training accuracy for each batch:  0.8363636\n",
      "Epoch...12\n",
      "Batch...1\n",
      "Training accuracy for each batch:  0.85\n",
      "Epoch...13\n",
      "Batch...1\n",
      "Training accuracy for each batch:  0.86153847\n",
      "Epoch...14\n",
      "Batch...1\n",
      "Training accuracy for each batch:  0.87142855\n",
      "Epoch...15\n",
      "Batch...1\n",
      "Training accuracy for each batch:  0.88\n",
      "Epoch...16\n",
      "Batch...1\n",
      "Training accuracy for each batch:  0.8875\n",
      "Epoch...17\n",
      "Batch...1\n",
      "Training accuracy for each batch:  0.89411765\n",
      "Epoch...18\n",
      "Batch...1\n",
      "Training accuracy for each batch:  0.9\n",
      "Epoch...19\n",
      "Batch...1\n",
      "Training accuracy for each batch:  0.9052632\n",
      "Epoch...20\n",
      "Batch...1\n",
      "Training accuracy for each batch:  0.91\n"
     ]
    }
   ],
   "source": [
    "## FINE-TUNE ON SUPPORT SET OF THE TARGET DATA\n",
    "ftrain_acc_metric = keras.metrics.SparseCategoricalAccuracy()\n",
    "foptimizer = tf.keras.optimizers.Adam()\n",
    "\n",
    "def fine_tune(model,epochs,optimizer): \n",
    "    t_loss = []\n",
    "    t_acc = []\n",
    "    fmodel = get_updated_model(2,model)   \n",
    "    for epoch in range(epochs):\n",
    "        print(f'Epoch...{epoch+1}')\n",
    "        for i,(xbatch,ybatch) in enumerate(support_target_dataset):\n",
    "            print(f'Batch...{i+1}')\n",
    "            xbatch = tf.convert_to_tensor(xbatch)\n",
    "            xbatch = tf.cast(xbatch[:,:,:,tf.newaxis],tf.float32) \n",
    "            ybatch = ybatch-min(ybatch) \n",
    "               \n",
    "            grads,loss,logits = compute_gradients(fmodel,xbatch,ybatch) \n",
    "            apply_gradients(foptimizer,grads,fmodel.trainable_variables)                \n",
    "            ftrain_acc_metric.update_state(ybatch,logits)\n",
    "        print('Training accuracy for each batch: ',ftrain_acc_metric.result().numpy())\n",
    "        t_loss.append(loss)\n",
    "        t_acc.append(ftrain_acc_metric.result().numpy())    \n",
    "          \n",
    "    return fmodel,t_loss,t_acc\n",
    "    \n",
    "finetune_model,f_loss,f_acc = fine_tune(pretrain_model,20,foptimizer) "
   ]
  },
  {
   "cell_type": "code",
   "execution_count": 12,
   "metadata": {
    "colab": {
     "base_uri": "https://localhost:8080/",
     "height": 590
    },
    "id": "9kQ2ysLIpxyF",
    "outputId": "283eb5b3-1eea-4a25-eba4-742a6c9a53cb"
   },
   "outputs": [
    {
     "data": {
      "image/png": "[encoded data removed]",
      "text/plain": [
       "<Figure size 640x480 with 1 Axes>"
      ]
     },
     "metadata": {},
     "output_type": "display_data"
    }
   ],
   "source": [
    "plt.figure()\n",
    "plt.plot(f_loss,'r-')\n",
    "plt.plot(f_acc,'b-')\n",
    "plt.xlabel('Epochs')\n",
    "plt.legend(['Loss','Acc'])\n",
    "plt.title('Fine-tune Model')\n",
    "plt.savefig('./plots/finetrainmodel.png')\n"
   ]
  },
  {
   "cell_type": "code",
   "execution_count": 14,
   "metadata": {},
   "outputs": [
    {
     "name": "stdout",
     "output_type": "stream",
     "text": [
      "Saving the weights....\n",
      "Model saved!!\n"
     ]
    }
   ],
   "source": [
    "print(f'Saving the weights....')\n",
    "finetune_model.save_weights('./models/finetune_model_mnist',save_format='tf')\n",
    "print(f'Model saved!!')"
   ]
  },
  {
   "cell_type": "code",
   "execution_count": 15,
   "metadata": {},
   "outputs": [
    {
     "name": "stdout",
     "output_type": "stream",
     "text": [
      "Load the weights....\n",
      "Model Loaded!!!\n"
     ]
    }
   ],
   "source": [
    "print(f'Load the weights....')\n",
    "finetune_model = mnist_model(2)\n",
    "finetune_model.build_graph([28,28,1])\n",
    "finetune_model.load_weights('./models/finetune_model_mnist')\n",
    "print(f'Model Loaded!!!')"
   ]
  },
  {
   "cell_type": "code",
   "execution_count": 16,
   "metadata": {
    "colab": {
     "base_uri": "https://localhost:8080/"
    },
    "id": "E18hKhI6sTZK",
    "outputId": "e64d0a89-0ef9-4503-d408-5c38330a0537"
   },
   "outputs": [
    {
     "name": "stdout",
     "output_type": "stream",
     "text": [
      "Testing accuracy on query target set:  0.88383836\n"
     ]
    }
   ],
   "source": [
    "## Test the fine-tune model on the query set of the target data\n",
    "\n",
    "ftest_train_acc_metric = keras.metrics.SparseCategoricalAccuracy()\n",
    "\n",
    "def test_fine_tune(model):\n",
    "    for i,(xbatch,ybatch) in enumerate(query_target_dataset):\n",
    "        xbatch = tf.convert_to_tensor(xbatch)\n",
    "        xbatch = xbatch[:,:,:,tf.newaxis]\n",
    "        ybatch = ybatch-min(ybatch)\n",
    "\n",
    "        ypred = model.call(xbatch)\n",
    "        ftest_train_acc_metric.update_state(ybatch,ypred)\n",
    "    print('Testing accuracy on query target set: ',ftest_train_acc_metric.result().numpy())\n",
    "\n",
    "test_fine_tune(finetune_model)"
   ]
  },
  {
   "cell_type": "markdown",
   "metadata": {
    "id": "bAJKvMfTqCmy"
   },
   "source": [
    "## Metalearning\n",
    "### We first pre-train the model on first 4 classes of the source data, i.e [0,1,2,3]. \n",
    "### We then meta-train the pre-trained model on the remaining 4 classes of the source data, i.e. [4,5,6,7]. "
   ]
  },
  {
   "cell_type": "code",
   "execution_count": 17,
   "metadata": {
    "colab": {
     "base_uri": "https://localhost:8080/"
    },
    "id": "lYimzu8rudCL",
    "outputId": "faa8ef4c-131a-408b-80bd-10239ccac809"
   },
   "outputs": [
    {
     "name": "stdout",
     "output_type": "stream",
     "text": [
      "Epoch..1\n",
      "Meta pre-training accuracy for each epoch:  0.7455\n",
      "Epoch..2\n",
      "Meta pre-training accuracy for each epoch:  0.8575\n",
      "Epoch..3\n",
      "Meta pre-training accuracy for each epoch:  0.90183336\n",
      "Epoch..4\n",
      "Meta pre-training accuracy for each epoch:  0.9245\n",
      "Epoch..5\n",
      "Meta pre-training accuracy for each epoch:  0.9381\n",
      "Epoch..6\n",
      "Meta pre-training accuracy for each epoch:  0.947\n",
      "Epoch..7\n",
      "Meta pre-training accuracy for each epoch:  0.9542143\n",
      "Epoch..8\n",
      "Meta pre-training accuracy for each epoch:  0.95975\n",
      "Epoch..9\n",
      "Meta pre-training accuracy for each epoch:  0.9641111\n",
      "Epoch..10\n",
      "Meta pre-training accuracy for each epoch:  0.9677\n",
      "Epoch..11\n",
      "Meta pre-training accuracy for each epoch:  0.97063637\n",
      "Epoch..12\n",
      "Meta pre-training accuracy for each epoch:  0.9730833\n",
      "Epoch..13\n",
      "Meta pre-training accuracy for each epoch:  0.97515386\n",
      "Epoch..14\n",
      "Meta pre-training accuracy for each epoch:  0.9769286\n",
      "Epoch..15\n",
      "Meta pre-training accuracy for each epoch:  0.9784667\n",
      "Epoch..16\n",
      "Meta pre-training accuracy for each epoch:  0.9798125\n",
      "Epoch..17\n",
      "Meta pre-training accuracy for each epoch:  0.981\n",
      "Epoch..18\n",
      "Meta pre-training accuracy for each epoch:  0.98205554\n",
      "Epoch..19\n",
      "Meta pre-training accuracy for each epoch:  0.983\n",
      "Epoch..20\n",
      "Meta pre-training accuracy for each epoch:  0.98385\n"
     ]
    }
   ],
   "source": [
    "## META-LEARNING\n",
    "\n",
    "meta_pretrain_model = mnist_model(4)\n",
    "meta_pretrain_model.build_graph([28,28,1])\n",
    "\n",
    "mptrain_acc_metric = keras.metrics.SparseCategoricalAccuracy()\n",
    "\n",
    "def meta_pre_train(model,epochs):\n",
    "    for epoch in range(epochs):\n",
    "        print(f'Epoch..{epoch+1}')\n",
    "        for i,(xbatch,ybatch) in enumerate(meta_pretrain_dataset):\n",
    "            xbatch = tf.convert_to_tensor(xbatch)\n",
    "            xbatch = tf.cast(xbatch[:,:,:,tf.newaxis],tf.float32) \n",
    "            grads,loss,logits = compute_gradients(model,xbatch,ybatch) \n",
    "            apply_gradients(foptimizer,grads,model.trainable_variables)                \n",
    "            mptrain_acc_metric.update_state(ybatch,logits)\n",
    "        print('Meta pre-training accuracy for each epoch: ',mptrain_acc_metric.result().numpy())\n",
    "    return model\n",
    "\n",
    "meta_pretrain_model = meta_pre_train(meta_pretrain_model,20)"
   ]
  },
  {
   "cell_type": "code",
   "execution_count": 18,
   "metadata": {},
   "outputs": [
    {
     "name": "stdout",
     "output_type": "stream",
     "text": [
      "Saving the weights....\n",
      "Model saved!!\n"
     ]
    }
   ],
   "source": [
    "print(f'Saving the weights....')\n",
    "meta_pretrain_model.save_weights('./models/meta_pretrain_model_mnist',save_format='tf')\n",
    "print(f'Model saved!!')"
   ]
  },
  {
   "cell_type": "code",
   "execution_count": 19,
   "metadata": {},
   "outputs": [
    {
     "name": "stdout",
     "output_type": "stream",
     "text": [
      "Load the weights....\n",
      "Model Loaded!!!\n"
     ]
    }
   ],
   "source": [
    "print(f'Load the weights....')\n",
    "meta_pretrain_model = mnist_model(4)\n",
    "meta_pretrain_model.build_graph([28,28,1])\n",
    "meta_pretrain_model.load_weights('./models/meta_pretrain_model_mnist')\n",
    "print(f'Model Loaded!!!')"
   ]
  },
  {
   "cell_type": "code",
   "execution_count": 20,
   "metadata": {
    "id": "IgQdC0cdrMUe"
   },
   "outputs": [],
   "source": [
    "## Function for dividing the episode into support and query set in source domain\n",
    "\n",
    "def get_sup_que(classes,counter,tot_cat):\n",
    "    tot_x = []\n",
    "    tot_y = []\n",
    "    shift = min(tot_cat)\n",
    "    for c in np.sort(classes):\n",
    "        lower_indx= int(counter[c-shift])\n",
    "        upper_indx = int(lower_indx + batch_size)\n",
    "        if upper_indx<500:\n",
    "            for j in range(lower_indx,upper_indx):\n",
    "                tot_x.append(classwise_x[c][j])\n",
    "                tot_y.append(c)\n",
    "            counter[c-shift]+=batch_size\n",
    "\n",
    "    x_s = np.concatenate((tot_x[:k_shots],tot_x[batch_size:batch_size+k_shots]),axis=0)\n",
    "    y_s = np.concatenate((tot_y[:k_shots],tot_y[batch_size:batch_size+k_shots]),axis=0)\n",
    "    x_q = np.concatenate((tot_x[k_shots:batch_size],tot_x[batch_size+k_shots:]),axis=0)\n",
    "    y_q = np.concatenate((tot_y[k_shots:batch_size],tot_y[batch_size+k_shots:]))\n",
    "\n",
    "    x_s,y_s = shuffle(x_s,y_s)\n",
    "    x_q,y_q = shuffle(x_q,y_q)\n",
    "    return x_s,y_s,x_q,y_q,counter\n",
    "\n",
    "  "
   ]
  },
  {
   "cell_type": "code",
   "execution_count": 21,
   "metadata": {},
   "outputs": [
    {
     "name": "stdout",
     "output_type": "stream",
     "text": [
      "Task..1\n",
      "[4 6]\n",
      "Base accuracy for each batch:  0.0\n",
      "META: Loss:6.480395317077637..[0 2 2 2 2 0 0 0 0 2]..[2 0 0 0 0 3 1 0 0 0]\n",
      "Meta accuracy...0.20000000298023224\n",
      "Task..2\n",
      "[6 4]\n",
      "Base accuracy for each batch:  0.25\n",
      "META: Loss:2.550764560699463..[2 0 2 0 0 0 2 2 2 0]..[2 2 2 2 2 2 2 2 2 2]\n",
      "Meta accuracy...0.3499999940395355\n",
      "Task..3\n",
      "[5 7]\n",
      "Base accuracy for each batch:  0.16666667\n",
      "META: Loss:2.670637845993042..[1 3 1 3 1 3 1 1 3 3]..[0 1 0 1 3 3 0 1 1 0]\n",
      "Meta accuracy...0.30000001192092896\n",
      "Task..4\n",
      "[4 5]\n",
      "Base accuracy for each batch:  0.25\n",
      "META: Loss:2.6803719997406006..[0 1 0 0 1 1 1 1 0 0]..[0 2 0 0 3 3 3 0 0 0]\n",
      "Meta accuracy...0.3499999940395355\n",
      "Task..5\n",
      "[5 6]\n",
      "Base accuracy for each batch:  0.28\n",
      "META: Loss:1.4672590494155884..[1 2 2 1 1 2 2 1 2 1]..[3 2 2 1 0 2 2 0 2 0]\n",
      "Meta accuracy...0.4000000059604645\n",
      "Task..6\n",
      "[4 7]\n",
      "Base accuracy for each batch:  0.4\n",
      "META: Loss:0.840741753578186..[0 3 3 0 3 3 0 3 0 0]..[0 0 3 1 3 3 0 0 1 0]\n",
      "Meta accuracy...0.4333333373069763\n",
      "Task..7\n",
      "[5 7]\n",
      "Base accuracy for each batch:  0.44285715\n",
      "META: Loss:0.7865956425666809..[3 1 3 1 3 1 3 1 1 3]..[3 1 0 1 3 0 3 1 0 3]\n",
      "Meta accuracy...0.4714285731315613\n",
      "Task..8\n",
      "[6 4]\n",
      "Base accuracy for each batch:  0.475\n",
      "META: Loss:0.9363220930099487..[2 2 0 0 0 2 2 0 0 2]..[2 1 3 0 1 2 2 0 1 2]\n",
      "Meta accuracy...0.48750001192092896\n",
      "Task..9\n",
      "[4 5]\n",
      "Base accuracy for each batch:  0.5222222\n",
      "META: Loss:1.0060635805130005..[0 1 0 0 1 0 1 1 1 0]..[1 3 3 1 1 0 1 3 1 0]\n",
      "Meta accuracy...0.4888888895511627\n",
      "Task..10\n",
      "[4 5]\n",
      "Base accuracy for each batch:  0.55\n",
      "META: Loss:0.8529217839241028..[1 1 1 0 0 0 0 1 1 0]..[1 1 3 0 1 1 0 1 2 0]\n",
      "Meta accuracy...0.5\n",
      "Task..11\n",
      "[5 4]\n",
      "Base accuracy for each batch:  0.56363636\n",
      "META: Loss:0.9136574864387512..[1 0 1 0 0 0 0 1 1 1]..[1 3 1 1 0 0 1 1 1 1]\n",
      "Meta accuracy...0.5181818008422852\n",
      "Task..12\n",
      "[6 7]\n",
      "Base accuracy for each batch:  0.56666666\n",
      "META: Loss:1.1837785243988037..[3 2 2 2 3 3 3 2 3 2]..[3 1 2 1 3 1 3 1 3 2]\n",
      "Meta accuracy...0.5249999761581421\n",
      "Task..13\n",
      "[7 4]\n",
      "Base accuracy for each batch:  0.5846154\n",
      "META: Loss:0.9028021097183228..[3 0 0 0 0 3 3 0 3 3]..[3 0 0 0 0 1 0 2 0 3]\n",
      "Meta accuracy...0.5307692289352417\n",
      "Task..14\n",
      "[7 5]\n",
      "Base accuracy for each batch:  0.60714287\n",
      "META: Loss:0.5130489468574524..[1 3 3 1 1 1 3 3 3 1]..[1 3 3 1 1 1 3 3 3 1]\n",
      "Meta accuracy...0.5642856955528259\n",
      "Task..15\n",
      "[4 7]\n",
      "Base accuracy for each batch:  0.62666667\n",
      "META: Loss:0.43252071738243103..[0 3 0 3 0 3 3 0 0 3]..[0 1 0 3 0 3 3 0 0 3]\n",
      "Meta accuracy...0.5866666436195374\n",
      "Task..16\n",
      "[5 6]\n",
      "Base accuracy for each batch:  0.6375\n",
      "META: Loss:0.8326770663261414..[2 1 2 1 2 2 1 1 2 1]..[1 1 0 1 2 1 1 0 2 1]\n",
      "Meta accuracy...0.5874999761581421\n",
      "Task..17\n",
      "[6 7]\n",
      "Base accuracy for each batch:  0.65294117\n",
      "META: Loss:0.349590539932251..[3 2 3 3 2 3 3 2 2 2]..[3 2 3 3 2 3 3 2 2 2]\n",
      "Meta accuracy...0.6117647290229797\n",
      "Task..18\n",
      "[7 6]\n",
      "Base accuracy for each batch:  0.6666667\n",
      "META: Loss:0.3328859210014343..[3 2 2 3 2 2 2 3 3 3]..[3 2 2 3 2 2 2 3 3 3]\n",
      "Meta accuracy...0.6333333253860474\n",
      "Task..19\n",
      "[7 6]\n",
      "Base accuracy for each batch:  0.68421054\n",
      "META: Loss:0.3046373426914215..[3 3 2 3 2 2 3 2 2 3]..[3 3 2 3 2 2 3 2 2 3]\n",
      "Meta accuracy...0.6526315808296204\n",
      "Task..20\n",
      "[4 6]\n",
      "Base accuracy for each batch:  0.7\n",
      "META: Loss:0.5659497976303101..[0 2 0 2 2 2 2 0 0 0]..[0 2 0 2 2 0 2 0 2 0]\n",
      "Meta accuracy...0.6600000262260437\n",
      "Task..21\n",
      "[5 4]\n",
      "Base accuracy for each batch:  0.7\n",
      "META: Loss:0.6956403851509094..[0 1 1 0 1 0 1 0 0 1]..[0 1 1 0 1 0 2 0 0 2]\n",
      "Meta accuracy...0.6666666865348816\n",
      "Task..22\n",
      "[7 6]\n",
      "Base accuracy for each batch:  0.71363634\n",
      "META: Loss:0.08908043056726456..[3 2 2 2 3 2 2 3 3 3]..[3 2 2 2 3 2 2 3 3 3]\n",
      "Meta accuracy...0.6818181872367859\n",
      "Task..23\n",
      "[5 4]\n",
      "Base accuracy for each batch:  0.7173913\n",
      "META: Loss:0.40046730637550354..[0 1 0 0 1 1 0 1 1 0]..[0 2 0 0 1 1 0 1 1 0]\n",
      "Meta accuracy...0.6913043260574341\n",
      "Task..24\n",
      "[5 4]\n",
      "Base accuracy for each batch:  0.71666664\n",
      "META: Loss:0.5417641401290894..[1 1 0 0 0 1 1 0 0 1]..[1 1 2 0 0 1 1 0 0 1]\n",
      "Meta accuracy...0.699999988079071\n",
      "Task..25\n",
      "[6 7]\n",
      "Base accuracy for each batch:  0.728\n",
      "META: Loss:0.2924080491065979..[2 3 2 3 3 3 2 3 2 2]..[2 0 2 3 0 3 2 3 2 2]\n",
      "Meta accuracy...0.7039999961853027\n",
      "Task..26\n",
      "[7 4]\n",
      "Base accuracy for each batch:  0.73846155\n",
      "META: Loss:0.3214062750339508..[3 0 0 3 3 0 3 0 3 0]..[3 0 0 3 3 0 3 0 1 0]\n",
      "Meta accuracy...0.7115384340286255\n",
      "Task..27\n",
      "[5 4]\n",
      "Base accuracy for each batch:  0.74814814\n",
      "META: Loss:0.327493816614151..[1 1 1 0 0 1 0 1 0 0]..[1 1 1 0 0 1 3 1 0 0]\n",
      "Meta accuracy...0.7185184955596924\n",
      "Task..28\n",
      "[5 7]\n",
      "Base accuracy for each batch:  0.75714284\n",
      "META: Loss:0.17384013533592224..[1 1 3 3 1 3 3 1 1 3]..[1 3 3 3 1 3 3 1 1 3]\n",
      "Meta accuracy...0.7250000238418579\n",
      "Task..29\n",
      "[4 5]\n",
      "Base accuracy for each batch:  0.76551723\n",
      "META: Loss:0.4239981770515442..[1 0 0 1 0 1 0 1 0 1]..[1 0 0 1 0 1 0 1 2 1]\n",
      "Meta accuracy...0.7310344576835632\n",
      "Task..30\n",
      "[6 4]\n",
      "Base accuracy for each batch:  0.76666665\n",
      "META: Loss:0.03544555976986885..[2 2 2 0 2 0 0 2 0 0]..[2 2 2 0 2 0 0 2 0 0]\n",
      "Meta accuracy...0.7400000095367432\n",
      "Task..31\n",
      "[7 5]\n",
      "Base accuracy for each batch:  0.7741935\n",
      "META: Loss:0.07030687481164932..[1 1 3 1 3 3 1 1 3 3]..[1 1 3 1 3 3 1 1 3 3]\n",
      "Meta accuracy...0.7483870983123779\n",
      "Task..32\n",
      "[7 4]\n",
      "Base accuracy for each batch:  0.78125\n",
      "META: Loss:0.030963381752371788..[3 0 0 3 0 3 0 0 3 3]..[3 0 0 3 0 3 0 0 3 3]\n",
      "Meta accuracy...0.7562500238418579\n",
      "Task..33\n",
      "[4 6]\n",
      "Base accuracy for each batch:  0.7878788\n",
      "META: Loss:0.3024269938468933..[2 0 2 0 2 0 2 0 0 2]..[2 0 2 2 2 0 2 0 0 2]\n",
      "Meta accuracy...0.760606050491333\n",
      "Task..34\n",
      "[7 6]\n",
      "Base accuracy for each batch:  0.7911765\n",
      "META: Loss:0.07912029325962067..[2 2 3 3 2 2 3 3 2 3]..[2 2 3 3 2 2 3 3 2 3]\n",
      "Meta accuracy...0.7676470875740051\n",
      "Task..35\n",
      "[4 5]\n",
      "Base accuracy for each batch:  0.79714286\n",
      "META: Loss:0.061889372766017914..[1 1 0 0 0 0 0 1 1 1]..[1 1 0 0 0 0 0 1 1 1]\n",
      "Meta accuracy...0.7742857336997986\n",
      "Task..36\n",
      "[6 7]\n",
      "Base accuracy for each batch:  0.80277777\n",
      "META: Loss:0.21840150654315948..[3 2 2 2 2 2 3 3 3 3]..[3 2 2 2 0 2 3 3 3 3]\n",
      "Meta accuracy...0.7777777910232544\n",
      "Task..37\n",
      "[4 5]\n",
      "Base accuracy for each batch:  0.8081081\n",
      "META: Loss:0.14780159294605255..[1 1 0 0 0 1 0 1 0 1]..[1 1 0 0 2 1 0 1 0 1]\n",
      "Meta accuracy...0.7810810804367065\n",
      "Task..38\n",
      "[7 4]\n",
      "Base accuracy for each batch:  0.8131579\n",
      "META: Loss:0.20182649791240692..[3 3 3 0 0 3 0 3 0 0]..[0 3 3 0 0 3 0 3 0 0]\n",
      "Meta accuracy...0.7842105031013489\n",
      "Task..39\n",
      "[4 5]\n",
      "Base accuracy for each batch:  0.8153846\n",
      "META: Loss:0.0042233774438500404..[1 0 1 0 1 0 1 0 0 1]..[1 0 1 0 1 0 1 0 0 1]\n",
      "Meta accuracy...0.7897436022758484\n",
      "Task..40\n",
      "[7 4]\n",
      "Base accuracy for each batch:  0.82\n",
      "META: Loss:0.006716209463775158..[3 0 3 3 0 0 3 0 0 3]..[3 0 3 3 0 0 3 0 0 3]\n",
      "Meta accuracy...0.7950000166893005\n",
      "Task..41\n",
      "[6 5]\n",
      "Base accuracy for each batch:  0.82439023\n",
      "META: Loss:0.11886856704950333..[2 2 2 1 1 2 1 1 1 2]..[2 0 2 1 1 2 1 1 1 2]\n",
      "Meta accuracy...0.79756098985672\n",
      "Task..42\n",
      "[6 5]\n",
      "Base accuracy for each batch:  0.8238095\n",
      "META: Loss:0.1508764922618866..[1 1 1 1 2 2 2 2 1 2]..[1 1 1 1 2 0 2 2 1 2]\n",
      "Meta accuracy...0.800000011920929\n",
      "Task..43\n",
      "[6 5]\n",
      "Base accuracy for each batch:  0.82790697\n",
      "META: Loss:0.048795975744724274..[2 1 1 1 1 1 2 2 2 2]..[2 1 1 1 1 1 2 2 2 2]\n",
      "Meta accuracy...0.804651141166687\n",
      "Task..44\n",
      "[5 6]\n",
      "Base accuracy for each batch:  0.83181816\n",
      "META: Loss:0.01201568078249693..[2 2 1 1 2 2 1 1 2 1]..[2 2 1 1 2 2 1 1 2 1]\n",
      "Meta accuracy...0.8090909123420715\n",
      "Task..45\n",
      "[7 4]\n",
      "Base accuracy for each batch:  0.83555555\n",
      "META: Loss:0.0147341787815094..[0 3 0 0 0 3 3 0 3 3]..[0 3 0 0 0 3 3 0 3 3]\n",
      "Meta accuracy...0.8133333325386047\n",
      "Task..46\n",
      "[4 7]\n",
      "Base accuracy for each batch:  0.8369565\n",
      "META: Loss:0.09093673527240753..[3 0 3 0 3 3 0 0 3 0]..[3 3 3 0 3 3 0 0 3 0]\n",
      "Meta accuracy...0.8152173757553101\n",
      "Task..47\n",
      "[7 4]\n",
      "Base accuracy for each batch:  0.8361702\n",
      "META: Loss:0.32769379019737244..[3 3 3 0 0 0 3 3 0 0]..[3 3 3 0 0 0 3 3 1 0]\n",
      "Meta accuracy...0.8170212507247925\n",
      "Task..48\n",
      "[5 7]\n",
      "Base accuracy for each batch:  0.83958334\n",
      "META: Loss:0.059440888464450836..[3 1 1 3 3 3 1 1 3 1]..[3 1 1 3 3 3 1 1 3 1]\n",
      "Meta accuracy...0.8208333253860474\n",
      "Task..49\n",
      "[7 6]\n",
      "Base accuracy for each batch:  0.8428571\n",
      "META: Loss:0.0020493597257882357..[2 3 3 2 2 2 3 3 3 2]..[2 3 3 2 2 2 3 3 3 2]\n",
      "Meta accuracy...0.8244897723197937\n",
      "Task..50\n",
      "[5 7]\n",
      "Base accuracy for each batch:  0.846\n",
      "META: Loss:0.012284318916499615..[3 1 3 3 1 1 3 1 3 1]..[3 1 3 3 1 1 3 1 3 1]\n",
      "Meta accuracy...0.828000009059906\n",
      "Task..51\n",
      "[5 4]\n"
     ]
    },
    {
     "name": "stdout",
     "output_type": "stream",
     "text": [
      "Base accuracy for each batch:  0.84705883\n",
      "META: Loss:0.0561346635222435..[0 0 1 1 1 0 0 1 1 0]..[0 0 1 1 1 0 0 1 1 0]\n",
      "Meta accuracy...0.8313725590705872\n",
      "Task..52\n",
      "[4 6]\n",
      "Base accuracy for each batch:  0.85\n",
      "META: Loss:0.0003480914165265858..[0 2 0 0 2 2 0 2 0 2]..[0 2 0 0 2 2 0 2 0 2]\n",
      "Meta accuracy...0.8346154093742371\n",
      "Task..53\n",
      "[4 6]\n",
      "Base accuracy for each batch:  0.8528302\n",
      "META: Loss:0.0010905968956649303..[0 0 2 2 2 0 2 0 2 0]..[0 0 2 2 2 0 2 0 2 0]\n",
      "Meta accuracy...0.8377358317375183\n",
      "Task..54\n",
      "[7 4]\n",
      "Base accuracy for each batch:  0.8518519\n",
      "META: Loss:0.004572353791445494..[0 0 3 3 3 0 3 0 0 3]..[0 0 3 3 3 0 3 0 0 3]\n",
      "Meta accuracy...0.8407407402992249\n",
      "Task..55\n",
      "[4 7]\n",
      "Base accuracy for each batch:  0.8527273\n",
      "META: Loss:0.02020012028515339..[0 3 0 3 3 3 3 0 0 0]..[0 3 0 3 3 3 3 0 0 0]\n",
      "Meta accuracy...0.8436363339424133\n",
      "Task..56\n",
      "[7 6]\n",
      "Base accuracy for each batch:  0.85535717\n",
      "META: Loss:0.005912060383707285..[2 3 3 3 3 3 2 2 2 2]..[2 3 3 3 3 3 2 2 2 2]\n",
      "Meta accuracy...0.8464285731315613\n",
      "Task..57\n",
      "[7 6]\n",
      "Base accuracy for each batch:  0.8578947\n",
      "META: Loss:0.8212186098098755..[3 3 2 2 3 3 2 2 3 2]..[3 3 2 2 2 3 2 2 3 2]\n",
      "Meta accuracy...0.8473684191703796\n",
      "Task..58\n",
      "[7 5]\n",
      "Base accuracy for each batch:  0.8586207\n",
      "META: Loss:0.10253746807575226..[3 3 3 1 3 1 1 1 1 3]..[3 3 3 1 3 1 0 1 1 3]\n",
      "Meta accuracy...0.8482758402824402\n",
      "Task..59\n",
      "[7 4]\n",
      "Base accuracy for each batch:  0.8610169\n",
      "META: Loss:0.0005033536581322551..[0 0 3 3 0 0 3 0 3 3]..[0 0 3 3 0 0 3 0 3 3]\n",
      "Meta accuracy...0.8508474826812744\n",
      "Task..60\n",
      "[4 5]\n",
      "Base accuracy for each batch:  0.8616667\n",
      "META: Loss:0.18361783027648926..[0 0 1 1 0 0 1 1 0 1]..[0 0 1 1 0 0 1 0 0 1]\n",
      "Meta accuracy...0.8516666889190674\n",
      "Task..61\n",
      "[7 5]\n",
      "Base accuracy for each batch:  0.8639344\n",
      "META: Loss:0.005021270364522934..[1 1 3 1 1 1 3 3 3 3]..[1 1 3 1 1 1 3 3 3 3]\n",
      "Meta accuracy...0.854098379611969\n",
      "Task..62\n",
      "[6 7]\n",
      "Base accuracy for each batch:  0.86612904\n",
      "META: Loss:0.0007547281566075981..[3 3 2 2 3 3 2 2 2 3]..[3 3 2 2 3 3 2 2 2 3]\n",
      "Meta accuracy...0.8564516305923462\n",
      "Task..63\n",
      "[5 4]\n",
      "Base accuracy for each batch:  0.8666667\n",
      "META: Loss:0.012672292068600655..[1 1 1 1 1 0 0 0 0 0]..[1 1 1 1 1 0 0 0 0 0]\n",
      "Meta accuracy...0.858730137348175\n",
      "Task..64\n",
      "[7 6]\n",
      "Base accuracy for each batch:  0.8671875\n",
      "META: Loss:0.10484664142131805..[3 3 3 3 2 3 2 2 2 2]..[3 3 3 3 2 3 2 1 2 2]\n",
      "Meta accuracy...0.859375\n",
      "Task..65\n",
      "[7 6]\n",
      "Base accuracy for each batch:  0.86923075\n",
      "META: Loss:0.5055773258209229..[2 2 2 3 3 3 2 3 3 2]..[1 1 2 3 3 3 2 3 3 2]\n",
      "Meta accuracy...0.8584615588188171\n",
      "Task..66\n",
      "[5 7]\n",
      "Base accuracy for each batch:  0.8712121\n",
      "META: Loss:0.0015849594492465258..[1 1 3 3 3 3 1 3 1 1]..[1 1 3 3 3 3 1 3 1 1]\n",
      "Meta accuracy...0.8606060743331909\n",
      "Task..67\n",
      "[4 6]\n",
      "Base accuracy for each batch:  0.87014925\n",
      "META: Loss:0.10989437252283096..[2 0 2 0 0 2 2 2 0 0]..[2 0 2 0 0 2 2 2 0 0]\n",
      "Meta accuracy...0.8626865744590759\n",
      "Task..68\n",
      "[5 6]\n",
      "Base accuracy for each batch:  0.87058824\n",
      "META: Loss:0.007609575986862183..[2 1 1 1 2 1 1 2 2 2]..[2 1 1 1 2 1 1 2 2 2]\n",
      "Meta accuracy...0.8647058606147766\n",
      "Task..69\n",
      "[6 7]\n",
      "Base accuracy for each batch:  0.87246376\n",
      "META: Loss:0.000406116945669055..[2 3 2 3 3 3 2 2 2 3]..[2 3 2 3 3 3 2 2 2 3]\n",
      "Meta accuracy...0.8666666746139526\n",
      "Task..70\n",
      "[4 5]\n",
      "Base accuracy for each batch:  0.87285715\n",
      "META: Loss:0.35938429832458496..[1 0 0 1 0 1 1 0 0 1]..[1 0 0 1 0 3 2 0 0 1]\n",
      "Meta accuracy...0.8657143115997314\n",
      "Task..71\n",
      "[5 6]\n",
      "Base accuracy for each batch:  0.8746479\n",
      "META: Loss:0.009572160430252552..[1 1 1 1 2 2 2 2 2 1]..[1 1 1 1 2 2 2 2 2 1]\n",
      "Meta accuracy...0.8676056265830994\n",
      "Task..72\n",
      "[7 6]\n",
      "Base accuracy for each batch:  0.8763889\n",
      "META: Loss:0.013210123404860497..[2 2 2 2 3 3 3 3 2 3]..[2 2 2 2 3 3 3 3 2 3]\n",
      "Meta accuracy...0.8694444298744202\n",
      "Task..73\n",
      "[6 4]\n",
      "Base accuracy for each batch:  0.8780822\n",
      "META: Loss:0.01720583811402321..[0 0 2 0 2 0 2 2 0 2]..[0 0 2 0 2 0 2 2 0 2]\n",
      "Meta accuracy...0.8712328672409058\n",
      "Task..74\n",
      "[5 4]\n",
      "Base accuracy for each batch:  0.87702703\n",
      "META: Loss:0.1378054916858673..[0 1 1 1 0 0 0 1 1 0]..[0 1 1 2 0 0 0 1 1 0]\n",
      "Meta accuracy...0.8716216087341309\n",
      "Task..75\n",
      "[5 6]\n",
      "Base accuracy for each batch:  0.87866664\n",
      "META: Loss:0.08163537830114365..[1 2 1 1 2 2 1 2 2 1]..[1 2 1 1 2 2 1 2 2 1]\n",
      "Meta accuracy...0.8733333349227905\n",
      "Task..76\n",
      "[6 5]\n",
      "Base accuracy for each batch:  0.88026315\n",
      "META: Loss:0.017567958682775497..[1 1 1 2 1 2 1 2 2 2]..[1 1 1 2 1 2 1 2 2 2]\n",
      "Meta accuracy...0.875\n",
      "Task..77\n",
      "[7 6]\n",
      "Base accuracy for each batch:  0.8818182\n",
      "META: Loss:0.02734636887907982..[3 2 2 2 3 2 3 3 3 2]..[3 2 2 2 3 2 3 3 3 2]\n",
      "Meta accuracy...0.8766233921051025\n",
      "Task..78\n",
      "[4 5]\n",
      "Base accuracy for each batch:  0.8833333\n",
      "META: Loss:0.07973025739192963..[1 1 1 0 0 0 0 1 1 0]..[1 1 1 0 0 0 0 1 1 0]\n",
      "Meta accuracy...0.8782051205635071\n",
      "Task..79\n",
      "[4 6]\n",
      "Base accuracy for each batch:  0.88481015\n",
      "META: Loss:0.05001211166381836..[2 0 0 2 2 0 0 2 2 0]..[2 0 0 2 2 0 0 2 2 0]\n",
      "Meta accuracy...0.8797468543052673\n",
      "Task..80\n",
      "[5 6]\n",
      "Base accuracy for each batch:  0.88625\n",
      "META: Loss:0.0011060666292905807..[1 1 2 2 1 1 2 2 1 2]..[1 1 2 2 1 1 2 2 1 2]\n",
      "Meta accuracy...0.8812500238418579\n"
     ]
    }
   ],
   "source": [
    "k_shots = 5\n",
    "batch_size = 2*k_shots\n",
    "\n",
    "lr = 1.e-3\n",
    "alpha = 1.e-3\n",
    "beta = 1.e-3\n",
    "base_optimizer = tf.keras.optimizers.Adam(learning_rate = alpha)\n",
    "meta_optimizer = tf.keras.optimizers.Adam(learning_rate = beta)\n",
    "\n",
    "base_acc_metric = keras.metrics.SparseCategoricalAccuracy()\n",
    "meta_acc_metric = keras.metrics.SparseCategoricalAccuracy()\n",
    "\n",
    "\n",
    "def meta_train(model,lr_inner,inner_updates):\n",
    "    base_acc = []\n",
    "    meta_acc = []\n",
    "    meta_loss = []\n",
    "    \n",
    "    counter = np.zeros(len(source_category))\n",
    "    for task in range(80):\n",
    "        print(f'Task..{task+1}')\n",
    "        ctgy_samples = np.random.choice(source_category,2,replace=False)\n",
    "        print(ctgy_samples)\n",
    "        x_s,y_s,x_q,y_q,counter = get_sup_que(ctgy_samples,counter,source_category)\n",
    "        x_s = tf.convert_to_tensor(x_s)\n",
    "        x_s = x_s[:,:,:,tf.newaxis]\n",
    "        y_s = y_s-min(source_category)\n",
    "\n",
    "        x_q = tf.convert_to_tensor(x_q)\n",
    "        x_q = x_q[:,:,:,tf.newaxis]\n",
    "        y_q = y_q-min(source_category)\n",
    "        \n",
    "#         for epoch in range(epochs):\n",
    "        with tf.GradientTape() as test_tape:\n",
    "            with tf.GradientTape() as train_tape:\n",
    "                train_logits = model.call(x_s)\n",
    "                train_loss = loss_fn(y_s,train_logits)\n",
    "            gradients = train_tape.gradient(train_loss, model.trainable_variables)\n",
    "\n",
    "            k = 0\n",
    "            model_copy = copy_model(model,x_s,len(source_category))\n",
    "\n",
    "            for j in range(0,len(model_copy.layers)):\n",
    "                if model_copy.layers[j].trainable:\n",
    "                    model_copy.layers[j].kernel = tf.subtract(model.layers[j].kernel,tf.multiply(lr_inner, gradients[k]))\n",
    "                    model_copy.layers[j].bias = tf.subtract(model.layers[j].bias,tf.multiply(lr_inner, gradients[k+1]))\n",
    "                    k += 2\n",
    "\n",
    "            for w in range(inner_updates):\n",
    "                grads,loss,logits = compute_gradients(model_copy,x_s,y_s) \n",
    "                apply_gradients(base_optimizer,grads,model_copy.trainable_variables)                \n",
    "                base_acc_metric.update_state(y_s,logits)\n",
    "            print('Base accuracy for each batch: ',base_acc_metric.result().numpy())\n",
    "\n",
    "            test_logits = model_copy.call(x_q)\n",
    "            test_loss = loss_fn(y_q,test_logits)\n",
    "#             print(f'META: Loss:{test_loss}..{y_q}..{np.argmax(test_logits,axis=1)}')\n",
    "        meta_gradients = test_tape.gradient(test_loss, model.trainable_variables)\n",
    "        meta_optimizer.apply_gradients(zip(meta_gradients, model.trainable_variables))\n",
    "        meta_acc_metric.update_state(y_q,test_logits)\n",
    "        print(f'Meta accuracy...{meta_acc_metric.result().numpy()}') \n",
    "        base_acc.append(base_acc_metric.result().numpy())\n",
    "        meta_acc.append(meta_acc_metric.result().numpy())\n",
    "        meta_loss.append(test_loss)\n",
    "\n",
    "    return model,base_acc,meta_acc,meta_loss\n",
    "        \n",
    "meta_trained_model,base_acc,meta_acc,meta_loss = meta_train(meta_pretrain_model,lr,10)"
   ]
  },
  {
   "cell_type": "code",
   "execution_count": 23,
   "metadata": {
    "id": "bka6TfYgzSeR"
   },
   "outputs": [
    {
     "data": {
      "image/png": "[encoded data removed]",
      "text/plain": [
       "<Figure size 640x480 with 1 Axes>"
      ]
     },
     "metadata": {},
     "output_type": "display_data"
    }
   ],
   "source": [
    "plt.figure()\n",
    "plt.plot(base_acc,'r-')\n",
    "plt.plot(meta_acc,'b-')\n",
    "plt.plot(meta_loss,'k-')\n",
    "plt.legend(['Base accuracy','Meta accuracy','Meta loss'])\n",
    "plt.xlabel('Epochs')\n",
    "plt.title('Taskwise parameters')\n",
    "plt.savefig('./plots/metatrainmodel.png')\n"
   ]
  },
  {
   "cell_type": "code",
   "execution_count": 24,
   "metadata": {},
   "outputs": [
    {
     "name": "stdout",
     "output_type": "stream",
     "text": [
      "Saving the weights....\n",
      "Model saved!!\n"
     ]
    }
   ],
   "source": [
    "print(f'Saving the weights....')\n",
    "meta_trained_model.save_weights('./models/meta_trained_model_mnist',save_format='tf')\n",
    "print(f'Model saved!!')"
   ]
  },
  {
   "cell_type": "code",
   "execution_count": 25,
   "metadata": {},
   "outputs": [
    {
     "name": "stdout",
     "output_type": "stream",
     "text": [
      "Load the weights....\n",
      "Model Loaded!!!\n"
     ]
    }
   ],
   "source": [
    "print(f'Load the weights....')\n",
    "meta_trained_model = mnist_model(4)\n",
    "meta_trained_model.build_graph([28,28,1])\n",
    "meta_trained_model.load_weights('./models/meta_trained_model_mnist')\n",
    "print(f'Model Loaded!!!')"
   ]
  },
  {
   "cell_type": "code",
   "execution_count": 26,
   "metadata": {
    "id": "78_LXrE1HA9D"
   },
   "outputs": [
    {
     "name": "stdout",
     "output_type": "stream",
     "text": [
      "Base accuracy...0.8500000238418579\n",
      "Test accuracy on query set of target data...0.9404040575027466\n"
     ]
    }
   ],
   "source": [
    "##MetaTesting on target domain data\n",
    "k_shots = 5\n",
    "batch_size = 2*k_shots\n",
    "\n",
    "mbase_acc_metric = keras.metrics.SparseCategoricalAccuracy()\n",
    "meta_test_acc_metric = keras.metrics.SparseCategoricalAccuracy()\n",
    "\n",
    "def meta_test(model,inner_updates):\n",
    "    nmodel = get_updated_model(2,model)\n",
    "    counter = np.zeros(len(target_category))\n",
    "    \n",
    "    for i,(xbatch,ybatch) in enumerate(support_target_dataset):\n",
    "        xbatch = tf.convert_to_tensor(xbatch)\n",
    "        xbatch = xbatch[:,:,:,tf.newaxis]\n",
    "        ybatch = ybatch-min(ybatch)\n",
    "\n",
    "        for w in range(inner_updates):\n",
    "            with tf.GradientTape() as tape:\n",
    "                logits = nmodel.call(xbatch)\n",
    "                loss = loss_fn(ybatch,logits)\n",
    "            grads = tape.gradient(loss,nmodel.trainable_variables)\n",
    "            base_optimizer.apply_gradients(zip(grads,nmodel.trainable_variables))                \n",
    "            mbase_acc_metric.update_state(ybatch,logits)\n",
    "        print(f'Base accuracy...{mbase_acc_metric.result().numpy()}')\n",
    "\n",
    "    for j,(xbatch,ybatch) in enumerate(query_target_dataset):\n",
    "        xbatch = tf.convert_to_tensor(xbatch)\n",
    "        xbatch = xbatch[:,:,:,tf.newaxis]\n",
    "        ybatch = ybatch-min(ybatch)\n",
    "        test_logits = nmodel.call(xbatch)\n",
    "        meta_test_acc_metric.update_state(ybatch,test_logits)\n",
    "    print(f'Test accuracy on query set of target data...{meta_test_acc_metric.result().numpy()}') \n",
    "\n",
    "meta_test(meta_trained_model,10)"
   ]
  },
  {
   "cell_type": "code",
   "execution_count": null,
   "metadata": {
    "id": "jAXmB6qMpCOd"
   },
   "outputs": [],
   "source": []
  }
 ],
 "metadata": {
  "colab": {
   "provenance": []
  },
  "kernelspec": {
   "display_name": "Python 3 (ipykernel)",
   "language": "python",
   "name": "python3"
  },
  "language_info": {
   "codemirror_mode": {
    "name": "ipython",
    "version": 3
   },
   "file_extension": ".py",
   "mimetype": "text/x-python",
   "name": "python",
   "nbconvert_exporter": "python",
   "pygments_lexer": "ipython3",
   "version": "3.9.7"
  }
 },
 "nbformat": 4,
 "nbformat_minor": 1
}
